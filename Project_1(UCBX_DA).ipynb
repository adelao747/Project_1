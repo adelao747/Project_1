{
 "cells": [
  {
   "cell_type": "markdown",
   "id": "e569bb24-06a4-4024-a6f4-979fe9d7353e",
   "metadata": {
    "tags": []
   },
   "source": [
    "## Anna Remler"
   ]
  },
  {
   "cell_type": "markdown",
   "id": "991bf532-ee4d-4afd-80f1-afd5a58a8bea",
   "metadata": {
    "tags": []
   },
   "source": [
    "# Setup Data"
   ]
  },
  {
   "cell_type": "code",
   "execution_count": 1,
   "id": "aa39f7b4-c63b-4ebe-90a1-1e161c24fbef",
   "metadata": {},
   "outputs": [
    {
     "name": "stdout",
     "output_type": "stream",
     "text": [
      "Requirement already satisfied: requests in /Users/annaremler/opt/anaconda3/lib/python3.9/site-packages (2.28.1)\n",
      "Requirement already satisfied: charset-normalizer<3,>=2 in /Users/annaremler/opt/anaconda3/lib/python3.9/site-packages (from requests) (2.0.4)\n",
      "Requirement already satisfied: idna<4,>=2.5 in /Users/annaremler/opt/anaconda3/lib/python3.9/site-packages (from requests) (3.3)\n",
      "Requirement already satisfied: urllib3<1.27,>=1.21.1 in /Users/annaremler/opt/anaconda3/lib/python3.9/site-packages (from requests) (1.26.11)\n",
      "Requirement already satisfied: certifi>=2017.4.17 in /Users/annaremler/opt/anaconda3/lib/python3.9/site-packages (from requests) (2022.9.24)\n",
      "Note: you may need to restart the kernel to use updated packages.\n"
     ]
    }
   ],
   "source": [
    "pip install requests"
   ]
  },
  {
   "cell_type": "code",
   "execution_count": 2,
   "id": "119806d6-28e5-4e83-ac87-95201469c033",
   "metadata": {},
   "outputs": [],
   "source": [
    "import pandas as pd\n",
    "import matplotlib.pyplot as plt\n",
    "import scipy.stats as st\n",
    "import numpy as np"
   ]
  },
  {
   "cell_type": "code",
   "execution_count": 3,
   "id": "948f15cc-7344-4c4a-8b46-86d17cb6cb3d",
   "metadata": {},
   "outputs": [
    {
     "data": {
      "text/plain": [
       "{'response': 'success',\n",
       " 'id': '70',\n",
       " 'name': 'Batman',\n",
       " 'full-name': 'Bruce Wayne',\n",
       " 'alter-egos': 'No alter egos found.',\n",
       " 'aliases': ['Insider', 'Matches Malone'],\n",
       " 'place-of-birth': 'Crest Hill, Bristol Township; Gotham County',\n",
       " 'first-appearance': 'Detective Comics #27',\n",
       " 'publisher': 'DC Comics',\n",
       " 'alignment': 'good'}"
      ]
     },
     "execution_count": 3,
     "metadata": {},
     "output_type": "execute_result"
    }
   ],
   "source": [
    "# Checking to see if API works\n",
    "import requests\n",
    "url = \"https://superheroapi.com/api/10229722834886310/70/biography\"\n",
    "response = requests.get(url)\n",
    "response.json()"
   ]
  },
  {
   "cell_type": "code",
   "execution_count": 4,
   "id": "8f1c83e9-bc18-4cea-b8e5-91df0e62658b",
   "metadata": {
    "tags": []
   },
   "outputs": [
    {
     "data": {
      "text/plain": [
       "{'response': 'success',\n",
       " 'id': '70',\n",
       " 'name': 'Batman',\n",
       " 'intelligence': '100',\n",
       " 'strength': '26',\n",
       " 'speed': '27',\n",
       " 'durability': '50',\n",
       " 'power': '47',\n",
       " 'combat': '100'}"
      ]
     },
     "execution_count": 4,
     "metadata": {},
     "output_type": "execute_result"
    }
   ],
   "source": [
    "url = \"https://superheroapi.com/api/10229722834886310/70/powerstats\"\n",
    "response = requests.get(url)\n",
    "response.json()"
   ]
  },
  {
   "cell_type": "code",
   "execution_count": null,
   "id": "97500d96-ab37-4040-be2d-34cafc24cff4",
   "metadata": {},
   "outputs": [],
   "source": [
    "database_bio = []\n",
    "for i in range(1, 732):\n",
    "    url = f\"https://superheroapi.com/api/10229722834886310/{i}/biography\"\n",
    "    response = requests.get(url).json()\n",
    "    database_bio.append(response)"
   ]
  },
  {
   "cell_type": "code",
   "execution_count": null,
   "id": "a8861f38-5a8b-461e-98ae-179c78f1edda",
   "metadata": {},
   "outputs": [],
   "source": [
    "database_ps = []\n",
    "for i in range(1, 732):\n",
    "    url = f\"https://superheroapi.com/api/10229722834886310/{i}/powerstats\"\n",
    "    response = requests.get(url).json()\n",
    "    database_ps.append(response)"
   ]
  },
  {
   "cell_type": "code",
   "execution_count": null,
   "id": "4fad5c70-5eb7-4dd2-b897-4ef8fe7bf496",
   "metadata": {
    "tags": []
   },
   "outputs": [],
   "source": [
    "df_bio= pd.DataFrame(database_bio)\n",
    "df_ps= pd.DataFrame(database_ps)"
   ]
  },
  {
   "cell_type": "code",
   "execution_count": null,
   "id": "79c29c41-c60c-4fa8-a85f-5be7e9a0c89c",
   "metadata": {
    "tags": []
   },
   "outputs": [],
   "source": [
    "combined_df = pd.concat([df_bio, df_ps], axis=1, join='inner')\n",
    "display(combined_df)"
   ]
  },
  {
   "cell_type": "code",
   "execution_count": null,
   "id": "fd04d378-6cdb-4e41-85a7-8937a952c7e8",
   "metadata": {
    "tags": []
   },
   "outputs": [],
   "source": [
    "df_dc= combined_df.loc[\n",
    "    (df[\"publisher\"]== \"DC Comics\") |\n",
    "    (df[\"publisher\"]== \"Dark Horse Comics\")|\n",
    "    (df[\"publisher\"]== \"Hanna-Barbera\") | \n",
    "    (df[\"publisher\"]== \"Wildstorm\") | \n",
    "    (df[\"publisher\"]== \"Oracle\") |\n",
    "    (df[\"publisher\"]== \"Nightwing\") |\n",
    "    (df[\"publisher\"]== \"Spoiler\") |\n",
    "    (df[\"publisher\"]== \"Misfit\") |\n",
    "    (df[\"publisher\"]== \"Robin III\") |\n",
    "    (df[\"publisher\"]== \"Batman II\") |\n",
    "    (df[\"publisher\"]== \"Flash IV\") |\n",
    "    (df[\"publisher\"]== \"Batgirl\") |\n",
    "    (df[\"publisher\"]== \"Robin II\") |\n",
    "    (df[\"publisher\"]== \"Robin III\") |\n",
    "    (df[\"publisher\"]== \"Red Robin\") |\n",
    "    (df[\"publisher\"]== \"Superman Prime One-Million\") |\n",
    "    (df[\"publisher\"]== \"Arsenal\") |\n",
    "    (df[\"publisher\"]== \"Aztar\") |\n",
    "    (df[\"publisher\"]== \"Angel\") |\n",
    "    (df[\"publisher\"]== \"Meltdown\") |\n",
    "    (df[\"publisher\"]== \"Tempest\") |\n",
    "    (df[\"publisher\"]== \"Huntress\") |\n",
    "    (df[\"publisher\"]== \"Impulse\") |\n",
    "    (df[\"publisher\"]== \"Power Woman\") |\n",
    "    (df[\"publisher\"]== \"Atlas\") |\n",
    "    (df[\"publisher\"]== \"Batgirl III\")]"
   ]
  },
  {
   "cell_type": "code",
   "execution_count": null,
   "id": "976ff10e-24ee-46c8-9b24-35d20e4b114b",
   "metadata": {
    "tags": []
   },
   "outputs": [],
   "source": [
    "df_marvel= combined_df.loc[\n",
    "    (df[\"publisher\"]== \"Marvel Comics\")|\n",
    "    (df[\"publisher\"]== \"Sharon Carter\") |\n",
    "    (df[\"publisher\"]== \"Deadpool\") |\n",
    "    (df[\"publisher\"]== \"Evil Deadpool\") |\n",
    "    (df[\"publisher\"]== \"Goliath\") |\n",
    "    (df[\"publisher\"]== \"Ant-Man\") |\n",
    "    (df[\"publisher\"]== \"Binary\") |\n",
    "    (df[\"publisher\"]== \"Deadpool\") |\n",
    "    (df[\"publisher\"]== \"Sony Pictures\") |\n",
    "    (df[\"publisher\"]== \"Anti-Vision\") |\n",
    "    (df[\"publisher\"]== \"Speedball\") |\n",
    "    (df[\"publisher\"]== \"Jean Grey\") |\n",
    "    (df[\"publisher\"]== \"She-Thing\") |\n",
    "    (df[\"publisher\"]== \"Boom-Boom\") |\n",
    "    (df[\"publisher\"]== \"Luke Cage\") |\n",
    "    (df[\"publisher\"]== \"Vindicator II\") |\n",
    "    (df[\"publisher\"]== \"Blaquesmith\") |\n",
    "    (df[\"publisher\"]== \"Scorpion\") |\n",
    "    (df[\"publisher\"]== \"Warpath\") |\n",
    "    (df[\"publisher\"]== \"Rune King Thor\") |\n",
    "    (df[\"publisher\"]== \"Angel Salvadore\") |\n",
    "    (df[\"publisher\"]== \"Scarlet Spider\") |\n",
    "    (df[\"publisher\"]== \"Iron Lad\") |\n",
    "    (df[\"publisher\"]== \"Penance II\") |\n",
    "    (df[\"publisher\"]== \"Ms Marvel II\") |\n",
    "    (df[\"publisher\"]== \"Venom III\") |\n",
    "    (df[\"publisher\"]== \"Spider-Carnage\") |\n",
    "    (df[\"publisher\"]== \"Power Man\") |\n",
    "    (df[\"publisher\"]== \"Rebellion\") |\n",
    "    (df[\"publisher\"]== \"Giant-Man\") |\n",
    "    (df[\"publisher\"]== \"Vertigo II\") |\n",
    "    (df[\"publisher\"]== \"Gemini V\") |\n",
    "    (df[\"publisher\"]== \"Toxin\") |\n",
    "    (df[\"publisher\"]== \"Hawkeye\")]"
   ]
  },
  {
   "cell_type": "markdown",
   "id": "df8b6343-8fcb-4bbc-8a6c-59b320c6b1a7",
   "metadata": {
    "tags": []
   },
   "source": [
    "# Who has the higher villain to hero ratio?Anna Remler"
   ]
  },
  {
   "cell_type": "code",
   "execution_count": null,
   "id": "02b199df-ed5c-42b5-84f7-c2d9e7a66438",
   "metadata": {},
   "outputs": [],
   "source": [
    "combined_df[\"alignment\"].value_counts()"
   ]
  },
  {
   "cell_type": "code",
   "execution_count": null,
   "id": "e25cfd8b-d270-4139-b486-3b44b332ad4c",
   "metadata": {},
   "outputs": [],
   "source": [
    "count_dc = df_dc[\"alignment\"].value_counts()\n",
    "count_dc"
   ]
  },
  {
   "cell_type": "code",
   "execution_count": null,
   "id": "0afedddf-24c7-4499-af06-7ffa367af025",
   "metadata": {},
   "outputs": [],
   "source": [
    "count_marvel = df_marvel[\"alignment\"].value_counts()\n",
    "count_marvel"
   ]
  },
  {
   "cell_type": "code",
   "execution_count": null,
   "id": "4cbed1f6-69e7-4380-9c6c-63536226c989",
   "metadata": {},
   "outputs": [],
   "source": [
    "#Bar Chart outlining alignment in DC Universe\n",
    "plt.xlabel(\"Alignment\")\n",
    "plt.ylabel(\"Count\")\n",
    "\n",
    "plt.title(\"Heros and Villians in the DC Universe\")\n",
    "\n",
    "bar_plot = count_dc.plot.bar()"
   ]
  },
  {
   "cell_type": "code",
   "execution_count": null,
   "id": "dba4f228-d3ff-41fd-928a-bdcfb08cebdb",
   "metadata": {},
   "outputs": [],
   "source": [
    "#Bar Chart outlining alignment in Marvel Universe\n",
    "plt.xlabel(\"Alignment\")\n",
    "plt.ylabel(\"Count\")\n",
    "\n",
    "plt.title(\"Heros and Villians in the Marvel Universe\")\n",
    "\n",
    "bar_plot = count_marvel.plot.bar()"
   ]
  },
  {
   "cell_type": "code",
   "execution_count": null,
   "id": "3cf7e806-42b6-4e10-92fc-073707491405",
   "metadata": {},
   "outputs": [],
   "source": [
    "plotdata = pd.DataFrame({\n",
    "    \"DC\":[153, 66, 13, 1],\n",
    "    \"Marvel\":[252, 113, 11, 3]},\n",
    "    index=[\"good\", \"bad\", \"neutral\", \"-\"])\n",
    "\n",
    "bar_plot = plotdata.plot.bar()"
   ]
  },
  {
   "cell_type": "code",
   "execution_count": null,
   "id": "ee7e518f-8f74-46e3-accc-9a7ffd12115a",
   "metadata": {},
   "outputs": [],
   "source": [
    "# Pie plot\n",
    "count_dc.plot.pie(autopct = \"%1.1f%%\")\n",
    "plt.show()"
   ]
  },
  {
   "cell_type": "code",
   "execution_count": null,
   "id": "c9d27e6d-4e9c-4bd8-9890-d9a7fb0daded",
   "metadata": {},
   "outputs": [],
   "source": [
    "# Pie plot\n",
    "count_marvel.plot.pie(autopct = \"%1.1f%%\")\n",
    "plt.show()"
   ]
  },
  {
   "cell_type": "markdown",
   "id": "09e2dd35-5d8e-414d-bea4-01065c04130e",
   "metadata": {
    "tags": []
   },
   "source": [
    "# Ratio of strength"
   ]
  },
  {
   "cell_type": "code",
   "execution_count": null,
   "id": "16dadf4c-f2a2-4f58-b5cf-d2a271079874",
   "metadata": {},
   "outputs": [],
   "source": [
    "# Who is the most powerful villians\n",
    "df_dc_good = df_dc.loc[(df_dc[\"alignment\"]== \"good\")]\n",
    "df_dc_bad = df_dc.loc[(df_dc[\"alignment\"]== \"bad\")]\n",
    "df_marvel_good = df_marvel.loc[(df_marvel[\"alignment\"]== \"good\")]\n",
    "df_marvel_bad = df_marvel.loc[(df_marvel[\"alignment\"]== \"bad\")]"
   ]
  },
  {
   "cell_type": "code",
   "execution_count": null,
   "id": "4089d1fb-8559-43fd-b398-57ce71ddc016",
   "metadata": {},
   "outputs": [],
   "source": [
    "df_dc_good.to_csv(\"powercount_dc_good.csv\")\n",
    "df_dc_bad.to_csv(\"powercount_dc_bad.csv\")\n",
    "df_marvel_good.to_csv(\"powercount_marvel_good.csv\")\n",
    "df_marvel_bad.to_csv(\"powercount_marvel_bad.csv\")"
   ]
  },
  {
   "cell_type": "code",
   "execution_count": null,
   "id": "d32a15a9-c34c-4341-bd0f-f5b4adcd1a87",
   "metadata": {},
   "outputs": [],
   "source": [
    "df_dc_good = pd.read_csv(\"powercount_dc_good.csv\")\n",
    "df_dc_bad = pd.read_csv(\"powercount_dc_bad.csv\")\n",
    "df_marvel_good = pd.read_csv(\"powercount_marvel_good.csv\")\n",
    "df_marvel_bad = pd.read_csv(\"powercount_marvel_bad.csv\")"
   ]
  },
  {
   "cell_type": "code",
   "execution_count": null,
   "id": "aec58d73-d16f-4edd-8a08-9caf738ede5b",
   "metadata": {},
   "outputs": [],
   "source": [
    "dc_power_good = df_dc_good[\n",
    "    [\"name\", \"intelligence\", \"strength\", \"speed\", \"durability\", \"power\", \"combat\", \"total power\"]\n",
    "]\n",
    "dc_power_good"
   ]
  },
  {
   "cell_type": "code",
   "execution_count": null,
   "id": "4cafdaee-5f61-4bc5-a577-dbc41a2061cd",
   "metadata": {},
   "outputs": [],
   "source": [
    "dc_power_bad = df_dc_bad[\n",
    "    [\"name\", \"intelligence\", \"strength\", \"speed\", \"durability\", \"power\", \"combat\", \"total power\"]\n",
    "]\n",
    "dc_power_bad"
   ]
  },
  {
   "cell_type": "code",
   "execution_count": null,
   "id": "483fefb4-cfcf-46a3-84fc-35b23f033149",
   "metadata": {},
   "outputs": [],
   "source": [
    "marvel_power_good = df_marvel_good[\n",
    "    [\"name\", \"intelligence\", \"strength\", \"speed\", \"durability\", \"power\", \"combat\", \"total power\"]\n",
    "]\n",
    "marvel_power_good"
   ]
  },
  {
   "cell_type": "code",
   "execution_count": null,
   "id": "1211e210-abf5-4667-bed2-063b39ed60b4",
   "metadata": {},
   "outputs": [],
   "source": [
    "marvel_power_bad = df_marvel_bad[\n",
    "    [\"name\", \"intelligence\", \"strength\", \"speed\", \"durability\", \"power\", \"combat\", \"total power\"]\n",
    "]\n",
    "marvel_power_bad"
   ]
  }
 ],
 "metadata": {
  "kernelspec": {
   "display_name": "Python 3 (ipykernel)",
   "language": "python",
   "name": "python3"
  },
  "language_info": {
   "codemirror_mode": {
    "name": "ipython",
    "version": 3
   },
   "file_extension": ".py",
   "mimetype": "text/x-python",
   "name": "python",
   "nbconvert_exporter": "python",
   "pygments_lexer": "ipython3",
   "version": "3.9.13"
  }
 },
 "nbformat": 4,
 "nbformat_minor": 5
}
